{
 "cells": [
  {
   "cell_type": "code",
   "execution_count": 1,
   "metadata": {
    "colab": {
     "autoexec": {
      "startup": false,
      "wait_interval": 0
     }
    },
    "colab_type": "code",
    "id": "zEhnhfbGJGOE"
   },
   "outputs": [],
   "source": [
    "import pandas as pd\n",
    "import numpy as np\n",
    "from sklearn.pipeline import Pipeline\n",
    "from sklearn.preprocessing import MinMaxScaler\n",
    "from sklearn.preprocessing import PolynomialFeatures\n",
    "from sklearn.cluster import DBSCAN\n",
    "from sklearn.cluster import AffinityPropagation\n",
    "from sklearn.cluster import KMeans\n",
    "from sklearn import metrics\n",
    "import math\n",
    "import time\n",
    "from sklearn.metrics import mean_squared_error\n",
    "from sklearn.metrics import r2_score"
   ]
  },
  {
   "cell_type": "code",
   "execution_count": 2,
   "metadata": {
    "colab": {
     "autoexec": {
      "startup": false,
      "wait_interval": 0
     }
    },
    "colab_type": "code",
    "id": "8x8wD2LapaNv"
   },
   "outputs": [],
   "source": [
    "from sklearn.base import BaseEstimator, ClassifierMixin\n",
    "class MaxScaler(BaseEstimator, ClassifierMixin):\n",
    "\n",
    "    def __init__(self, name = \"MaxScaler\"):\n",
    "        self.name = name\n",
    "        \n",
    "\n",
    "    def fit(self, X):\n",
    "        self.max_elements = np.amax(X, axis=0)\n",
    "        return self\n",
    "\n",
    "    def transform(self, X):\n",
    "        scaledX = X / self.max_elements\n",
    "        return scaledX"
   ]
  },
  {
   "cell_type": "code",
   "execution_count": 3,
   "metadata": {
    "colab": {
     "autoexec": {
      "startup": false,
      "wait_interval": 0
     }
    },
    "colab_type": "code",
    "id": "1_PMl42JJGOR"
   },
   "outputs": [],
   "source": [
    "df_train = pd.read_csv('procom_train.csv', header=None)\n",
    "df_test = pd.read_csv('procom_test.csv', header=None)\n",
    "\n",
    "train_size = len(df_train)\n",
    "\n",
    "train_X = df_train.iloc[:, :-1]\n",
    "train_y = df_train.iloc[:,-1]\n",
    "test_X = df_test.iloc[:, :-1]\n",
    "test_y = df_test.iloc[:,-1]\n"
   ]
  },
  {
   "cell_type": "code",
   "execution_count": 4,
   "metadata": {},
   "outputs": [],
   "source": [
    "scaler = MinMaxScaler()\n",
    "scaler.fit(train_X)\n",
    "train_X = pd.DataFrame(scaler.transform(train_X))\n",
    "test_X = pd.DataFrame(scaler.transform(test_X))"
   ]
  },
  {
   "cell_type": "code",
   "execution_count": 6,
   "metadata": {},
   "outputs": [],
   "source": [
    "# поліноміальне розширення входів\n",
    "\n",
    "poly = PolynomialFeatures(2)\n",
    "train_X = pd.DataFrame(poly.fit_transform(train_X))\n",
    "test_X = pd.DataFrame(poly.fit_transform(test_X))"
   ]
  },
  {
   "cell_type": "code",
   "execution_count": 7,
   "metadata": {},
   "outputs": [
    {
     "data": {
      "text/html": [
       "<div>\n",
       "<style scoped>\n",
       "    .dataframe tbody tr th:only-of-type {\n",
       "        vertical-align: middle;\n",
       "    }\n",
       "\n",
       "    .dataframe tbody tr th {\n",
       "        vertical-align: top;\n",
       "    }\n",
       "\n",
       "    .dataframe thead th {\n",
       "        text-align: right;\n",
       "    }\n",
       "</style>\n",
       "<table border=\"1\" class=\"dataframe\">\n",
       "  <thead>\n",
       "    <tr style=\"text-align: right;\">\n",
       "      <th></th>\n",
       "      <th>0</th>\n",
       "      <th>1</th>\n",
       "      <th>2</th>\n",
       "      <th>3</th>\n",
       "      <th>4</th>\n",
       "      <th>5</th>\n",
       "      <th>6</th>\n",
       "      <th>7</th>\n",
       "      <th>8</th>\n",
       "      <th>9</th>\n",
       "      <th>...</th>\n",
       "      <th>68</th>\n",
       "      <th>69</th>\n",
       "      <th>70</th>\n",
       "      <th>71</th>\n",
       "      <th>72</th>\n",
       "      <th>73</th>\n",
       "      <th>74</th>\n",
       "      <th>75</th>\n",
       "      <th>76</th>\n",
       "      <th>77</th>\n",
       "    </tr>\n",
       "  </thead>\n",
       "  <tbody>\n",
       "    <tr>\n",
       "      <th>0</th>\n",
       "      <td>1.0</td>\n",
       "      <td>0.967454</td>\n",
       "      <td>0.147698</td>\n",
       "      <td>1.0</td>\n",
       "      <td>0.0</td>\n",
       "      <td>0.0</td>\n",
       "      <td>0.0</td>\n",
       "      <td>0.0</td>\n",
       "      <td>0.0</td>\n",
       "      <td>0.651757</td>\n",
       "      <td>...</td>\n",
       "      <td>0.0</td>\n",
       "      <td>0.0</td>\n",
       "      <td>0.0</td>\n",
       "      <td>0.0</td>\n",
       "      <td>0.424787</td>\n",
       "      <td>0.420021</td>\n",
       "      <td>0.405021</td>\n",
       "      <td>0.415309</td>\n",
       "      <td>0.400476</td>\n",
       "      <td>0.386173</td>\n",
       "    </tr>\n",
       "    <tr>\n",
       "      <th>1</th>\n",
       "      <td>1.0</td>\n",
       "      <td>0.970619</td>\n",
       "      <td>0.142217</td>\n",
       "      <td>0.0</td>\n",
       "      <td>0.0</td>\n",
       "      <td>0.4</td>\n",
       "      <td>0.0</td>\n",
       "      <td>0.0</td>\n",
       "      <td>0.0</td>\n",
       "      <td>0.760383</td>\n",
       "      <td>...</td>\n",
       "      <td>0.0</td>\n",
       "      <td>0.0</td>\n",
       "      <td>0.0</td>\n",
       "      <td>0.0</td>\n",
       "      <td>0.578183</td>\n",
       "      <td>0.557614</td>\n",
       "      <td>0.418211</td>\n",
       "      <td>0.537778</td>\n",
       "      <td>0.403333</td>\n",
       "      <td>0.302500</td>\n",
       "    </tr>\n",
       "    <tr>\n",
       "      <th>2</th>\n",
       "      <td>1.0</td>\n",
       "      <td>0.973639</td>\n",
       "      <td>0.136826</td>\n",
       "      <td>0.0</td>\n",
       "      <td>0.0</td>\n",
       "      <td>0.2</td>\n",
       "      <td>0.0</td>\n",
       "      <td>0.0</td>\n",
       "      <td>0.0</td>\n",
       "      <td>0.725240</td>\n",
       "      <td>...</td>\n",
       "      <td>0.0</td>\n",
       "      <td>0.0</td>\n",
       "      <td>0.0</td>\n",
       "      <td>0.0</td>\n",
       "      <td>0.525973</td>\n",
       "      <td>0.628541</td>\n",
       "      <td>0.625519</td>\n",
       "      <td>0.751111</td>\n",
       "      <td>0.747500</td>\n",
       "      <td>0.743906</td>\n",
       "    </tr>\n",
       "    <tr>\n",
       "      <th>3</th>\n",
       "      <td>1.0</td>\n",
       "      <td>0.976511</td>\n",
       "      <td>0.131527</td>\n",
       "      <td>0.0</td>\n",
       "      <td>0.0</td>\n",
       "      <td>0.0</td>\n",
       "      <td>0.0</td>\n",
       "      <td>0.0</td>\n",
       "      <td>0.0</td>\n",
       "      <td>0.805112</td>\n",
       "      <td>...</td>\n",
       "      <td>0.0</td>\n",
       "      <td>0.0</td>\n",
       "      <td>0.0</td>\n",
       "      <td>0.0</td>\n",
       "      <td>0.648205</td>\n",
       "      <td>0.769329</td>\n",
       "      <td>0.148083</td>\n",
       "      <td>0.913086</td>\n",
       "      <td>0.175754</td>\n",
       "      <td>0.033830</td>\n",
       "    </tr>\n",
       "    <tr>\n",
       "      <th>4</th>\n",
       "      <td>1.0</td>\n",
       "      <td>0.979232</td>\n",
       "      <td>0.126320</td>\n",
       "      <td>0.0</td>\n",
       "      <td>0.0</td>\n",
       "      <td>0.8</td>\n",
       "      <td>0.0</td>\n",
       "      <td>1.0</td>\n",
       "      <td>0.0</td>\n",
       "      <td>0.747604</td>\n",
       "      <td>...</td>\n",
       "      <td>0.0</td>\n",
       "      <td>0.0</td>\n",
       "      <td>0.0</td>\n",
       "      <td>0.0</td>\n",
       "      <td>0.558911</td>\n",
       "      <td>0.481789</td>\n",
       "      <td>0.168211</td>\n",
       "      <td>0.415309</td>\n",
       "      <td>0.145000</td>\n",
       "      <td>0.050625</td>\n",
       "    </tr>\n",
       "  </tbody>\n",
       "</table>\n",
       "<p>5 rows × 78 columns</p>\n",
       "</div>"
      ],
      "text/plain": [
       "    0         1         2    3    4    5    6    7    8         9   ...   68  \\\n",
       "0  1.0  0.967454  0.147698  1.0  0.0  0.0  0.0  0.0  0.0  0.651757  ...  0.0   \n",
       "1  1.0  0.970619  0.142217  0.0  0.0  0.4  0.0  0.0  0.0  0.760383  ...  0.0   \n",
       "2  1.0  0.973639  0.136826  0.0  0.0  0.2  0.0  0.0  0.0  0.725240  ...  0.0   \n",
       "3  1.0  0.976511  0.131527  0.0  0.0  0.0  0.0  0.0  0.0  0.805112  ...  0.0   \n",
       "4  1.0  0.979232  0.126320  0.0  0.0  0.8  0.0  1.0  0.0  0.747604  ...  0.0   \n",
       "\n",
       "    69   70   71        72        73        74        75        76        77  \n",
       "0  0.0  0.0  0.0  0.424787  0.420021  0.405021  0.415309  0.400476  0.386173  \n",
       "1  0.0  0.0  0.0  0.578183  0.557614  0.418211  0.537778  0.403333  0.302500  \n",
       "2  0.0  0.0  0.0  0.525973  0.628541  0.625519  0.751111  0.747500  0.743906  \n",
       "3  0.0  0.0  0.0  0.648205  0.769329  0.148083  0.913086  0.175754  0.033830  \n",
       "4  0.0  0.0  0.0  0.558911  0.481789  0.168211  0.415309  0.145000  0.050625  \n",
       "\n",
       "[5 rows x 78 columns]"
      ]
     },
     "execution_count": 7,
     "metadata": {},
     "output_type": "execute_result"
    }
   ],
   "source": [
    "train_X.head()"
   ]
  },
  {
   "cell_type": "code",
   "execution_count": 10,
   "metadata": {
    "colab": {
     "autoexec": {
      "startup": false,
      "wait_interval": 0
     }
    },
    "colab_type": "code",
    "id": "a8m4uET4JGOv"
   },
   "outputs": [],
   "source": [
    "def mean_absolute_percentage_error(y_true, y_pred): \n",
    "    y_true, y_pred = np.array(y_true), np.array(y_pred)\n",
    "    return np.mean(np.abs((y_true - y_pred) / y_true)) * 100\n",
    "\n",
    "def sum_of_squared_errors(y_true, y_pred): \n",
    "    y_true, y_pred = np.array(y_true), np.array(y_pred)\n",
    "    return math.sqrt(np.sum((y_true - y_pred)**2))\n",
    "  \n",
    "def symmetric_mean_absolute_percentage_error(y_true, y_pred):\n",
    "    y_true, y_pred = np.array(y_true), np.array(y_pred)\n",
    "    return np.sum(np.abs(y_true - y_pred)) / np.sum(y_pred + y_true)\n",
    "\n",
    "def root_mean_squared_error(y_true, y_pred):\n",
    "    return np.sqrt(((y_pred - y_true) ** 2).mean())\n",
    "\n",
    "def mean_absolute_error(y_true, y_pred):\n",
    "    y_true, y_pred = np.array(y_true), np.array(y_pred)\n",
    "    return np.mean(np.abs(y_true - y_pred))\n",
    "  "
   ]
  },
  {
   "cell_type": "code",
   "execution_count": 11,
   "metadata": {
    "colab": {
     "autoexec": {
      "startup": false,
      "wait_interval": 0
     },
     "base_uri": "https://localhost:8080/",
     "height": 93,
     "output_extras": [
      {
       "item_id": 1
      },
      {
       "item_id": 2
      }
     ]
    },
    "colab_type": "code",
    "executionInfo": {
     "elapsed": 2009,
     "status": "ok",
     "timestamp": 1519061471704,
     "user": {
      "displayName": "Pavlo Vitynsky",
      "photoUrl": "//lh4.googleusercontent.com/-0gmYQKkdSQA/AAAAAAAAAAI/AAAAAAAAAHs/sPm8IyH3FLQ/s50-c-k-no/photo.jpg",
      "userId": "105745679178520700853"
     },
     "user_tz": -120
    },
    "id": "ML6IaOy5Lssd",
    "outputId": "3619a388-527d-4d91-aead-b7311836255d",
    "scrolled": true
   },
   "outputs": [
    {
     "name": "stdout",
     "output_type": "stream",
     "text": [
      "--- 0.05828094482421875 seconds ---\n",
      "Training erros:\n",
      "MAPE: 3.5733690244927536\n",
      "RMSE: 18618.606081478603\n",
      "R2: 0.9645152922684502\n",
      "Testing errors:\n",
      "MAPE: 3.523815638291092\n",
      "RMSE: 20345.565047352\n",
      "R2: 0.956305443125463\n"
     ]
    },
    {
     "name": "stderr",
     "output_type": "stream",
     "text": [
      "/usr/local/lib/python3.9/site-packages/sklearn/linear_model/_stochastic_gradient.py:165: FutureWarning: The loss 'squared_loss' was deprecated in v1.0 and will be removed in version 1.2. Use `loss='squared_error'` which is equivalent.\n",
      "  warnings.warn(\n"
     ]
    }
   ],
   "source": [
    "from sklearn.linear_model import SGDRegressor\n",
    "sgd = SGDRegressor(loss = 'squared_loss', alpha=0.0001)\n",
    "start_time = time.time()\n",
    "sgd.fit(train_X, train_y)\n",
    "print(\"--- %s seconds ---\" % (time.time() - start_time))\n",
    "train_pred_y = sgd.predict(train_X)\n",
    "pred_y = sgd.predict(test_X)\n",
    "\n",
    "print('Training erros:')\n",
    "print(\"MAPE: \" + str(mean_absolute_percentage_error(train_y, train_pred_y)))\n",
    "print(\"MSE: \" + str(mean_squared_error(train_y, train_pred_y)))\n",
    "print(\"RMSE: \" + str(root_mean_squared_error(train_y, train_pred_y)))\n",
    "\n",
    "print(\"R2: \" + str(r2_score(train_y, train_pred_y)))\n",
    "print('Testing errors:')\n",
    "print(\"MAPE: \" + str(mean_absolute_percentage_error(test_y, pred_y)))\n",
    "print(\"RMSE: \" + str(root_mean_squared_error(test_y, pred_y)))\n",
    "print(\"R2: \" + str(r2_score(test_y, pred_y)))"
   ]
  },
  {
   "cell_type": "code",
   "execution_count": 12,
   "metadata": {},
   "outputs": [
    {
     "name": "stdout",
     "output_type": "stream",
     "text": [
      "MSE: 346652492.4172721\n"
     ]
    }
   ],
   "source": [
    "print(\"MSE: \" + str(mean_squared_error(train_y, train_pred_y)))"
   ]
  },
  {
   "cell_type": "code",
   "execution_count": 8,
   "metadata": {},
   "outputs": [],
   "source": [
    "#np.savetxt('C:/Users/User/Desktop/gtm/MPL.csv', pred_y, delimiter=',', fmt='%1.5f')"
   ]
  },
  {
   "cell_type": "code",
   "execution_count": null,
   "metadata": {},
   "outputs": [],
   "source": [
    "random_indices = np.random.choice(number_of_rows, size=2, replace=False)"
   ]
  }
 ],
 "metadata": {
  "accelerator": "GPU",
  "colab": {
   "collapsed_sections": [],
   "default_view": {},
   "name": "prediction.ipynb",
   "provenance": [
    {
     "file_id": "15IF7ZSCRPKqZuS9OrcnRqtwPL5FIfksv",
     "timestamp": 1518962279204
    }
   ],
   "version": "0.3.2",
   "views": {}
  },
  "kernelspec": {
   "display_name": "Python 3 (ipykernel)",
   "language": "python",
   "name": "python3"
  },
  "language_info": {
   "codemirror_mode": {
    "name": "ipython",
    "version": 3
   },
   "file_extension": ".py",
   "mimetype": "text/x-python",
   "name": "python",
   "nbconvert_exporter": "python",
   "pygments_lexer": "ipython3",
   "version": "3.9.7"
  }
 },
 "nbformat": 4,
 "nbformat_minor": 4
}
