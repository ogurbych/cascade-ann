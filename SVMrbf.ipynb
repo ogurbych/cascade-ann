{
 "cells": [
  {
   "cell_type": "code",
   "execution_count": 32,
   "metadata": {
    "colab": {
     "autoexec": {
      "startup": false,
      "wait_interval": 0
     }
    },
    "colab_type": "code",
    "id": "zEhnhfbGJGOE"
   },
   "outputs": [],
   "source": [
    "import pandas as pd\n",
    "import numpy as np\n",
    "from sklearn.pipeline import Pipeline\n",
    "from sklearn.preprocessing import MinMaxScaler\n",
    "from sklearn.preprocessing import StandardScaler\n",
    "from sklearn.preprocessing import PolynomialFeatures\n",
    "from sklearn import metrics\n",
    "import math\n",
    "import time\n",
    "from sklearn.metrics import mean_squared_error\n",
    "from sklearn.metrics import r2_score\n",
    "from sklearn.svm import SVR"
   ]
  },
  {
   "cell_type": "code",
   "execution_count": 33,
   "metadata": {
    "colab": {
     "autoexec": {
      "startup": false,
      "wait_interval": 0
     }
    },
    "colab_type": "code",
    "id": "8x8wD2LapaNv"
   },
   "outputs": [],
   "source": [
    "from sklearn.base import BaseEstimator, ClassifierMixin\n",
    "class MaxScaler(BaseEstimator, ClassifierMixin):\n",
    "\n",
    "    def __init__(self, name = \"MaxScaler\"):\n",
    "        self.name = name\n",
    "        \n",
    "\n",
    "    def fit(self, X):\n",
    "        self.max_elements = np.amax(X, axis=0)\n",
    "        return self\n",
    "\n",
    "    def transform(self, X):\n",
    "        scaledX = X / self.max_elements\n",
    "        return scaledX"
   ]
  },
  {
   "cell_type": "code",
   "execution_count": 34,
   "metadata": {
    "colab": {
     "autoexec": {
      "startup": false,
      "wait_interval": 0
     }
    },
    "colab_type": "code",
    "id": "1_PMl42JJGOR"
   },
   "outputs": [],
   "source": [
    "df_train = pd.read_csv('c:/Users/ivani/Documents/sgtm/trainCO.txt', header=None)\n",
    "df_test = pd.read_csv('c:/Users/ivani/Documents/sgtm/testCO.txt', header=None)\n",
    "\n",
    "train_size = len(df_train)\n",
    "\n",
    "train_X = df_train.iloc[:, :-1]\n",
    "train_y = df_train.iloc[:,-1]\n",
    "test_X = df_test.iloc[:, :-1]\n",
    "test_y = df_test.iloc[:,-1]\n"
   ]
  },
  {
   "cell_type": "code",
   "execution_count": 35,
   "metadata": {
    "colab": {
     "autoexec": {
      "startup": false,
      "wait_interval": 0
     }
    },
    "colab_type": "code",
    "id": "dvXR0GhgJGOX"
   },
   "outputs": [],
   "source": [
    "scaler = MaxScaler()\n",
    "scaler.fit(train_X)\n",
    "train_X = scaler.transform(train_X)\n",
    "test_X = scaler.transform(test_X)"
   ]
  },
  {
   "cell_type": "code",
   "execution_count": 36,
   "metadata": {},
   "outputs": [],
   "source": [
    "#poly = PolynomialFeatures(3)\n",
    "#train_X = poly.fit_transform(train_X)\n",
    "#test_X = poly.fit_transform(test_X)"
   ]
  },
  {
   "cell_type": "code",
   "execution_count": 37,
   "metadata": {
    "colab": {
     "autoexec": {
      "startup": false,
      "wait_interval": 0
     }
    },
    "colab_type": "code",
    "id": "a8m4uET4JGOv"
   },
   "outputs": [],
   "source": [
    "def mean_absolute_percentage_error(y_true, y_pred): \n",
    "    y_true, y_pred = np.array(y_true), np.array(y_pred)\n",
    "    return np.mean(np.abs((y_true - y_pred) / y_true)) * 100\n",
    "\n",
    "def mean_absolute_error(y_true, y_pred):\n",
    "    y_true, y_pred = np.array(y_true), np.array(y_pred)\n",
    "    return np.mean(np.abs(y_true - y_pred))\n",
    "  \n",
    "def symmetric_mean_absolute_percentage_error(y_true, y_pred):\n",
    "    y_true, y_pred = np.array(y_true), np.array(y_pred)\n",
    "    return np.sum(np.abs(y_true - y_pred)) / np.sum(y_pred + y_true)\n",
    "\n",
    "def root_mean_squared_error(y_true, y_pred):\n",
    "    return np.sqrt(((y_pred - y_true) ** 2).mean())\n",
    "  "
   ]
  },
  {
   "cell_type": "code",
   "execution_count": 38,
   "metadata": {
    "colab": {
     "autoexec": {
      "startup": false,
      "wait_interval": 0
     },
     "base_uri": "https://localhost:8080/",
     "height": 93,
     "output_extras": [
      {
       "item_id": 1
      },
      {
       "item_id": 2
      }
     ]
    },
    "colab_type": "code",
    "executionInfo": {
     "elapsed": 30116,
     "status": "ok",
     "timestamp": 1519061469371,
     "user": {
      "displayName": "Pavlo Vitynsky",
      "photoUrl": "//lh4.googleusercontent.com/-0gmYQKkdSQA/AAAAAAAAAAI/AAAAAAAAAHs/sPm8IyH3FLQ/s50-c-k-no/photo.jpg",
      "userId": "105745679178520700853"
     },
     "user_tz": -120
    },
    "id": "e0G-XA2CdJsI",
    "outputId": "394a94b1-b1f1-44f1-9537-fd45aa15494f"
   },
   "outputs": [
    {
     "name": "stdout",
     "output_type": "stream",
     "text": [
      "--- 1.3639147281646729 seconds ---\n",
      "Training erros:\n",
      "MAPE: 20.378432498829536\n",
      "RMSE: 0.5084503780252849\n",
      "MAE: 0.24500951041475486\n",
      "R2: 0.8777743263365023\n",
      "\n",
      "Testing errors:\n",
      "MAPE: 18.240248350407082\n",
      "RMSE: 0.4602313635967944\n",
      "MAE: 0.2509116580164691\n",
      "R2: 0.9028684316613361\n"
     ]
    }
   ],
   "source": [
    "from sklearn.svm import SVR\n",
    "svr = SVR(kernel='rbf', gamma='scale', coef0=0.0, epsilon=0.001, max_iter=-1)\n",
    "start_time = time.time()\n",
    "svr.fit(train_X, train_y)\n",
    "print(\"--- %s seconds ---\" % (time.time() - start_time))\n",
    "train_pred_y = svr.predict(train_X)\n",
    "pred_y = svr.predict(test_X)\n",
    "\n",
    "print('Training erros:')\n",
    "print(\"MAPE: \" + str(mean_absolute_percentage_error(train_y, train_pred_y)))\n",
    "print(\"RMSE: \" + str(root_mean_squared_error(train_y, train_pred_y)))\n",
    "print(\"MAE: \" + str(mean_absolute_error(train_y, train_pred_y)))\n",
    "print(\"R2: \" + str(r2_score(train_y, train_pred_y)))\n",
    "print()\n",
    "print('Testing errors:')\n",
    "print(\"MAPE: \" + str(mean_absolute_percentage_error(test_y, pred_y)))\n",
    "print(\"RMSE: \" + str(root_mean_squared_error(test_y, pred_y)))\n",
    "print(\"MAE: \" + str(mean_absolute_error(test_y, pred_y)))\n",
    "print(\"R2: \" + str(r2_score(test_y, pred_y)))"
   ]
  },
  {
   "cell_type": "code",
   "execution_count": null,
   "metadata": {},
   "outputs": [],
   "source": []
  }
 ],
 "metadata": {
  "accelerator": "GPU",
  "colab": {
   "collapsed_sections": [],
   "default_view": {},
   "name": "prediction.ipynb",
   "provenance": [
    {
     "file_id": "15IF7ZSCRPKqZuS9OrcnRqtwPL5FIfksv",
     "timestamp": 1518962279204
    }
   ],
   "version": "0.3.2",
   "views": {}
  },
  "kernelspec": {
   "display_name": "Python 3 (ipykernel)",
   "language": "python",
   "name": "python3"
  },
  "language_info": {
   "codemirror_mode": {
    "name": "ipython",
    "version": 3
   },
   "file_extension": ".py",
   "mimetype": "text/x-python",
   "name": "python",
   "nbconvert_exporter": "python",
   "pygments_lexer": "ipython3",
   "version": "3.9.7"
  }
 },
 "nbformat": 4,
 "nbformat_minor": 4
}
